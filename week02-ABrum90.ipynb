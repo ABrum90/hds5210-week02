{
 "cells": [
  {
   "cell_type": "code",
   "execution_count": 4,
   "metadata": {
    "collapsed": false
   },
   "outputs": [
    {
     "name": "stderr",
     "output_type": "stream",
     "text": [
      "fatal: destination path 'hds5210-week02' already exists and is not an empty directory.\n"
     ]
    }
   ],
   "source": [
    "%%bash\n",
    "cd ~/notebooks\n",
    "git clone git@github.com:abrum90/hds5210-week02.git"
   ]
  },
  {
   "cell_type": "code",
   "execution_count": 1,
   "metadata": {
    "collapsed": false
   },
   "outputs": [
    {
     "name": "stdout",
     "output_type": "stream",
     "text": [
      "kids_with_insurance_cost:$4,046,360.00\n",
      "kids_without_insurance_cost:$11,010,145.56\n",
      "Total:$15,056,505.56\n"
     ]
    }
   ],
   "source": [
    "#tonsillectomy average cost\n",
    "without_insurance=5442\n",
    "with_insurance=2000\n",
    "\n",
    "#10-14 y/o in MO\n",
    "kids=202318\n",
    "#2% of kids\n",
    "kids_with_tonsillectomy=(kids*.02)\n",
    "\n",
    "#50% of kids with tonsillectomy with insurance cost\n",
    "kids_with_insurance_cost =(kids_with_tonsillectomy*.5)*with_insurance\n",
    "\n",
    "#50% of kids with tonsillectomy without insurance cost\n",
    "kids_without_insurance_cost=(kids_with_tonsillectomy*.5)*without_insurance\n",
    "\n",
    "#format to $\n",
    "print (\"kids_with_insurance_cost:\"+str('${:,.2f}'.format(kids_with_insurance_cost)))\n",
    "print (\"kids_without_insurance_cost:\"+str('${:,.2f}'.format(kids_without_insurance_cost)))   \n",
    "\n",
    "#add cost and format to $\n",
    "print (\"Total:\"+str('${:,.2f}'.format(kids_with_insurance_cost+kids_without_insurance_cost)))                                         "
   ]
  },
  {
   "cell_type": "code",
   "execution_count": 5,
   "metadata": {
    "collapsed": false
   },
   "outputs": [
    {
     "name": "stdout",
     "output_type": "stream",
     "text": [
      "On branch master\n",
      "Your branch is up-to-date with 'origin/master'.\n",
      "nothing to commit, working directory clean\n"
     ]
    },
    {
     "name": "stderr",
     "output_type": "stream",
     "text": [
      "fatal: pathspec 'week02-abrum90.ipynb' did not match any files\n",
      "warning: push.default is unset; its implicit value has changed in\n",
      "Git 2.0 from 'matching' to 'simple'. To squelch this message\n",
      "and maintain the traditional behavior, use:\n",
      "\n",
      "  git config --global push.default matching\n",
      "\n",
      "To squelch this message and adopt the new behavior now, use:\n",
      "\n",
      "  git config --global push.default simple\n",
      "\n",
      "When push.default is set to 'matching', git will push local branches\n",
      "to the remote branches that already exist with the same name.\n",
      "\n",
      "Since Git 2.0, Git defaults to the more conservative 'simple'\n",
      "behavior, which only pushes the current branch to the corresponding\n",
      "remote branch that 'git pull' uses to update the current branch.\n",
      "\n",
      "See 'git help config' and search for 'push.default' for further information.\n",
      "(the 'simple' mode was introduced in Git 1.7.11. Use the similar mode\n",
      "'current' instead of 'simple' if you sometimes use older versions of Git)\n",
      "\n",
      "Everything up-to-date\n"
     ]
    }
   ],
   "source": [
    "%%bash\n",
    "cd ~/notebooks/hds5210-week02/\n",
    "git add week02-abrum90.ipynb\n",
    "git commit -a -m \"Adding homework\"\n",
    "git push"
   ]
  }
 ],
 "metadata": {
  "kernelspec": {
   "display_name": "Python 3",
   "language": "python",
   "name": "python3"
  },
  "language_info": {
   "codemirror_mode": {
    "name": "ipython",
    "version": 3
   },
   "file_extension": ".py",
   "mimetype": "text/x-python",
   "name": "python",
   "nbconvert_exporter": "python",
   "pygments_lexer": "ipython3",
   "version": "3.4.3"
  }
 },
 "nbformat": 4,
 "nbformat_minor": 0
}
