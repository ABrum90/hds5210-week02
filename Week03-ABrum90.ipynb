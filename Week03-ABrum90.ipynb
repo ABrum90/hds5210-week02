{
 "cells": [
  {
   "cell_type": "code",
   "execution_count": 1,
   "metadata": {
    "collapsed": false
   },
   "outputs": [
    {
     "name": "stdout",
     "output_type": "stream",
     "text": [
      "89\n"
     ]
    }
   ],
   "source": [
    "#take three numbers as input and return sum\n",
    "def add_three_numbers(n1,n2,n3):\n",
    "    return n1+n2+n3\n",
    "\n",
    "#4 9 12 8 16 19 11 10\n",
    "sum = add_three_numbers (4,9,12);\n",
    "sum += add_three_numbers (8,16,19);\n",
    "sum = add_three_numbers (11,10,sum);\n",
    "print (sum)"
   ]
  },
  {
   "cell_type": "code",
   "execution_count": 2,
   "metadata": {
    "collapsed": false
   },
   "outputs": [
    {
     "name": "stdout",
     "output_type": "stream",
     "text": [
      "The current value of temp is 99\n"
     ]
    }
   ],
   "source": [
    "temp = 103\n",
    "\n",
    "#name a function calculate_target and then define funcation parameters (temp)\n",
    "def calculate_target (temp): \n",
    "    \n",
    "    \n",
    "    #temp -= 4\n",
    "    return temp\n",
    "\n",
    "temp -= 4\n",
    "calculate_target (temp)\n",
    "\n",
    "print(\"The current value of temp is \" + str(temp))\n",
    "\n",
    "#I initaially thought the program would subtract 4 from 103. After running the program only 103 was printed. \n",
    "#The program only output 103 because temp -=4 was iside the function parameters "
   ]
  },
  {
   "cell_type": "code",
   "execution_count": 4,
   "metadata": {
    "collapsed": false
   },
   "outputs": [
    {
     "name": "stdout",
     "output_type": "stream",
     "text": [
      "1.0 L/hr -> 1.0\n",
      "10 mg/hr -> 10.0\n",
      "0.75 g/day -> 0.75\n"
     ]
    }
   ],
   "source": [
    "def parse_dosage_amount(dosage) :\n",
    "    return float(dosage.split(\" \")[0]);\n",
    "\n",
    "print(\"1.0 L/hr ->\",parse_dosage_amount(\"1.0 L/hr\"));\n",
    "print(\"10 mg/hr ->\",parse_dosage_amount(\"10 mg/hr\"));\n",
    "print(\"0.75 g/day ->\",parse_dosage_amount(\"0.75 g/day\"));\n"
   ]
  },
  {
   "cell_type": "code",
   "execution_count": 3,
   "metadata": {
    "collapsed": false
   },
   "outputs": [
    {
     "name": "stdout",
     "output_type": "stream",
     "text": [
      "In one hr,the patient will have recieved 20 mg of Aspirin.\n",
      "In one day,the patient will have recieved 300 mg of Amoxicillin.\n"
     ]
    }
   ],
   "source": [
    "#Aspirin 20mg/hr -> In one hr, the patient will have recieved 20 mg of aspirin.\n",
    "#\n",
    "def parse_dosage( dosage ) :\n",
    "    \n",
    "    #Split all spaces and return [0]\"first value\" ex.) (Aspirin)\n",
    "    drug_name = dosage.split(' ')[0];\n",
    "    \n",
    "    #1.)\n",
    "    #Split all spaces and return [1]\"second value\" ex.) (20)\n",
    "    #2.)\n",
    "    #Split all spaces and return [2]\"third value\" ex.) (mg/hr)\n",
    "    #Split all \"/\" from tht value and return [0] \"first\" value ex.) (mg)\n",
    "    #3.)\n",
    "    #Add these two value together with a space in between ex.) (20mg)\n",
    "    volume = dosage.split(' ')[1]+\" \"+dosage.split(' ')[2].split('/')[0];\n",
    "    \n",
    "    #split all \"/\" and return [1] \"second\" value ex.) (day)\n",
    "    time = dosage.split('/')[1];\n",
    "    \n",
    "    #build sentence and return\n",
    "    return \"In one \" + time + \",the patient will have recieved \" + volume + \" of \" + drug_name +  \".\";\n",
    "\n",
    "#Aspirin 20mg\n",
    "print(parse_dosage(\"Aspirin 20 mg/hr\"));\n",
    "\n",
    "#Amoxicillin 300mg/day\n",
    "print(parse_dosage(\"Amoxicillin 300 mg/day\"));"
   ]
  },
  {
   "cell_type": "code",
   "execution_count": 5,
   "metadata": {
    "collapsed": false
   },
   "outputs": [
    {
     "name": "stdout",
     "output_type": "stream",
     "text": [
      "[master 99f4370] Adding homework\n",
      " 2 files changed, 175 insertions(+), 12 deletions(-)\n",
      " create mode 100644 Week03-ABrum90.ipynb\n"
     ]
    },
    {
     "name": "stderr",
     "output_type": "stream",
     "text": [
      "warning: push.default is unset; its implicit value has changed in\n",
      "Git 2.0 from 'matching' to 'simple'. To squelch this message\n",
      "and maintain the traditional behavior, use:\n",
      "\n",
      "  git config --global push.default matching\n",
      "\n",
      "To squelch this message and adopt the new behavior now, use:\n",
      "\n",
      "  git config --global push.default simple\n",
      "\n",
      "When push.default is set to 'matching', git will push local branches\n",
      "to the remote branches that already exist with the same name.\n",
      "\n",
      "Since Git 2.0, Git defaults to the more conservative 'simple'\n",
      "behavior, which only pushes the current branch to the corresponding\n",
      "remote branch that 'git pull' uses to update the current branch.\n",
      "\n",
      "See 'git help config' and search for 'push.default' for further information.\n",
      "(the 'simple' mode was introduced in Git 1.7.11. Use the similar mode\n",
      "'current' instead of 'simple' if you sometimes use older versions of Git)\n",
      "\n",
      "To git@github.com:abrum90/hds5210-week02.git\n",
      "   1e59b28..99f4370  master -> master\n"
     ]
    }
   ],
   "source": [
    "%%bash\n",
    "cd ~/notebooks/hds5210-week02/\n",
    "git add Week03-ABrum90.ipynb\n",
    "git commit -a -m \"Adding homework\"\n",
    "git push"
   ]
  }
 ],
 "metadata": {
  "kernelspec": {
   "display_name": "Python 3",
   "language": "python",
   "name": "python3"
  },
  "language_info": {
   "codemirror_mode": {
    "name": "ipython",
    "version": 3
   },
   "file_extension": ".py",
   "mimetype": "text/x-python",
   "name": "python",
   "nbconvert_exporter": "python",
   "pygments_lexer": "ipython3",
   "version": "3.4.3"
  }
 },
 "nbformat": 4,
 "nbformat_minor": 0
}
